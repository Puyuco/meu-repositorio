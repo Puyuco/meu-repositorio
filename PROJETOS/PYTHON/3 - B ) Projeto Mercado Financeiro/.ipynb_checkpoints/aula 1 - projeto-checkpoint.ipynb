{
 "cells": [
  {
   "cell_type": "markdown",
   "id": "643c3fe9",
   "metadata": {},
   "source": [
    "# Guardando os dados(Variáveis)"
   ]
  },
  {
   "cell_type": "code",
   "execution_count": 14,
   "id": "e31619d6",
   "metadata": {},
   "outputs": [
    {
     "name": "stdout",
     "output_type": "stream",
     "text": [
      "Digite a descrição do Projeto: python\n",
      "Digite a quantidade de horas estimadas: 150\n",
      "Digite o Valor de Horas Trabalhadas: 150\n",
      "Digite o Prazo: 3 meses\n"
     ]
    }
   ],
   "source": [
    "projeto = input('Digite a descrição do Projeto: ')\n",
    "horas_estimadas = input('Digite a quantidade de horas estimadas: ')\n",
    "valor_hora = input('Digite o Valor de Horas Trabalhadas: ')\n",
    "prazo = input('Digite o Prazo: ')"
   ]
  },
  {
   "cell_type": "code",
   "execution_count": 13,
   "id": "8851a7b6",
   "metadata": {},
   "outputs": [
    {
     "name": "stdout",
     "output_type": "stream",
     "text": [
      "python\n",
      "150\n",
      "150\n",
      "4 meses\n",
      "22500\n"
     ]
    }
   ],
   "source": [
    "print(projeto)\n",
    "print(horas_estimadas)\n",
    "print(valor_hora)\n",
    "print(prazo)\n",
    "print(valor_total)"
   ]
  },
  {
   "cell_type": "markdown",
   "id": "a4b044f1",
   "metadata": {},
   "source": [
    "# Cálculos"
   ]
  },
  {
   "cell_type": "code",
   "execution_count": 8,
   "id": "bbc8b89a",
   "metadata": {},
   "outputs": [
    {
     "data": {
      "text/plain": [
       "5000"
      ]
     },
     "execution_count": 8,
     "metadata": {},
     "output_type": "execute_result"
    }
   ],
   "source": [
    "100*50"
   ]
  },
  {
   "cell_type": "code",
   "execution_count": 11,
   "id": "52650090",
   "metadata": {
    "scrolled": true
   },
   "outputs": [],
   "source": [
    "valor_total = int(horas_estimadas) * int(valor_hora)"
   ]
  },
  {
   "cell_type": "code",
   "execution_count": null,
   "id": "14582f71",
   "metadata": {},
   "outputs": [],
   "source": []
  },
  {
   "cell_type": "markdown",
   "id": "0c194764",
   "metadata": {},
   "source": [
    "## Tipos de Dados - Número e textos"
   ]
  },
  {
   "cell_type": "code",
   "execution_count": null,
   "id": "6aeae8eb",
   "metadata": {},
   "outputs": [],
   "source": [
    "type(10)"
   ]
  },
  {
   "cell_type": "code",
   "execution_count": null,
   "id": "bf9bbb05",
   "metadata": {},
   "outputs": [],
   "source": [
    "type('10')"
   ]
  },
  {
   "cell_type": "markdown",
   "id": "31c38c0b",
   "metadata": {},
   "source": [
    "## Gerando o PDF do Orçamento"
   ]
  },
  {
   "cell_type": "code",
   "execution_count": null,
   "id": "c95ab246",
   "metadata": {},
   "outputs": [],
   "source": [
    "!pip install fpdf"
   ]
  },
  {
   "cell_type": "code",
   "execution_count": null,
   "id": "d71b17b3",
   "metadata": {},
   "outputs": [],
   "source": [
    "from fpdf import FPDF"
   ]
  },
  {
   "cell_type": "code",
   "execution_count": 15,
   "id": "10b04053",
   "metadata": {},
   "outputs": [
    {
     "ename": "NameError",
     "evalue": "name 'FPDF' is not defined",
     "output_type": "error",
     "traceback": [
      "\u001b[1;31m---------------------------------------------------------------------------\u001b[0m",
      "\u001b[1;31mNameError\u001b[0m                                 Traceback (most recent call last)",
      "\u001b[1;32m~\\AppData\\Local\\Temp\\ipykernel_4900\\3007353467.py\u001b[0m in \u001b[0;36m<module>\u001b[1;34m\u001b[0m\n\u001b[1;32m----> 1\u001b[1;33m \u001b[0mpdf\u001b[0m \u001b[1;33m=\u001b[0m \u001b[0mFPDF\u001b[0m\u001b[1;33m(\u001b[0m\u001b[1;33m)\u001b[0m\u001b[1;33m\u001b[0m\u001b[1;33m\u001b[0m\u001b[0m\n\u001b[0m\u001b[0;32m      2\u001b[0m \u001b[1;33m\u001b[0m\u001b[0m\n\u001b[0;32m      3\u001b[0m \u001b[0mpdf\u001b[0m\u001b[1;33m.\u001b[0m\u001b[0madd_page\u001b[0m\u001b[1;33m(\u001b[0m\u001b[1;33m)\u001b[0m\u001b[1;33m\u001b[0m\u001b[1;33m\u001b[0m\u001b[0m\n\u001b[0;32m      4\u001b[0m \u001b[0mpdf\u001b[0m\u001b[1;33m.\u001b[0m\u001b[0mset_font\u001b[0m\u001b[1;33m(\u001b[0m\u001b[1;34m'Arial'\u001b[0m\u001b[1;33m)\u001b[0m\u001b[1;33m\u001b[0m\u001b[1;33m\u001b[0m\u001b[0m\n\u001b[0;32m      5\u001b[0m \u001b[1;33m\u001b[0m\u001b[0m\n",
      "\u001b[1;31mNameError\u001b[0m: name 'FPDF' is not defined"
     ]
    }
   ],
   "source": [
    "pdf = FPDF()\n",
    "\n",
    "pdf.add_page()\n",
    "pdf.set_font('Arial')\n",
    "\n",
    "pdf.text(115 ,145, projeto)\n",
    "pdf.text(115, 160, horas_estimadas)\n",
    "pdf.text(115, 175, valor_hora)\n",
    "pdf.text(115, 190, prazo)\n",
    "pdf.text(115, 190, valor_total)\n",
    "\n",
    "pdf.output('Orçamento Python.pdf')\n",
    "print('Orçamento Gerado com Sucesso!')"
   ]
  },
  {
   "cell_type": "code",
   "execution_count": 5,
   "id": "6dbf86ba",
   "metadata": {},
   "outputs": [
    {
     "data": {
      "text/plain": [
       "str"
      ]
     },
     "execution_count": 5,
     "metadata": {},
     "output_type": "execute_result"
    }
   ],
   "source": [
    "type(valor_hora)"
   ]
  },
  {
   "cell_type": "code",
   "execution_count": null,
   "id": "12bc38c3",
   "metadata": {},
   "outputs": [],
   "source": []
  },
  {
   "cell_type": "code",
   "execution_count": null,
   "id": "7f8acf82",
   "metadata": {},
   "outputs": [],
   "source": []
  },
  {
   "cell_type": "code",
   "execution_count": null,
   "id": "f2e2c634",
   "metadata": {},
   "outputs": [],
   "source": []
  }
 ],
 "metadata": {
  "kernelspec": {
   "display_name": "Python 3 (ipykernel)",
   "language": "python",
   "name": "python3"
  },
  "language_info": {
   "codemirror_mode": {
    "name": "ipython",
    "version": 3
   },
   "file_extension": ".py",
   "mimetype": "text/x-python",
   "name": "python",
   "nbconvert_exporter": "python",
   "pygments_lexer": "ipython3",
   "version": "3.9.13"
  }
 },
 "nbformat": 4,
 "nbformat_minor": 5
}
